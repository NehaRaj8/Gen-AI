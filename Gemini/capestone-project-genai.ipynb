{
 "cells": [
  {
   "cell_type": "code",
   "execution_count": null,
   "metadata": {
    "_cell_guid": "b1076dfc-b9ad-4769-8c92-a6c4dae69d19",
    "_uuid": "8f2839f25d086af736a60e9eeb907d3b93b6e0e5",
    "trusted": true
   },
   "outputs": [],
   "source": [
    "# This Python 3 environment comes with many helpful analytics libraries installed\n",
    "# It is defined by the kaggle/python Docker image: https://github.com/kaggle/docker-python\n",
    "# For example, here's several helpful packages to load\n",
    "\n",
    "import numpy as np # linear algebra\n",
    "import pandas as pd # data processing, CSV file I/O (e.g. pd.read_csv)\n",
    "\n",
    "# Input data files are available in the read-only \"../input/\" directory\n",
    "# For example, running this (by clicking run or pressing Shift+Enter) will list all files under the input directory\n",
    "\n",
    "import os\n",
    "for dirname, _, filenames in os.walk('/kaggle/input'):\n",
    "    for filename in filenames:\n",
    "        print(os.path.join(dirname, filename))\n",
    "\n",
    "# You can write up to 20GB to the current directory (/kaggle/working/) that gets preserved as output when you create a version using \"Save & Run All\" \n",
    "# You can also write temporary files to /kaggle/temp/, but they won't be saved outside of the current session"
   ]
  },
  {
   "cell_type": "code",
   "execution_count": null,
   "metadata": {
    "execution": {
     "iopub.execute_input": "2025-04-19T20:16:10.147635Z",
     "iopub.status.busy": "2025-04-19T20:16:10.147301Z",
     "iopub.status.idle": "2025-04-19T20:16:13.935339Z",
     "shell.execute_reply": "2025-04-19T20:16:13.934235Z",
     "shell.execute_reply.started": "2025-04-19T20:16:10.147609Z"
    },
    "trusted": true
   },
   "outputs": [
    {
     "name": "stdout",
     "output_type": "stream",
     "text": [
      "Requirement already satisfied: google-generativeai in /usr/local/lib/python3.11/dist-packages (0.8.5)\n",
      "Requirement already satisfied: google-ai-generativelanguage==0.6.15 in /usr/local/lib/python3.11/dist-packages (from google-generativeai) (0.6.15)\n",
      "Requirement already satisfied: google-api-core in /usr/local/lib/python3.11/dist-packages (from google-generativeai) (1.34.1)\n",
      "Requirement already satisfied: google-api-python-client in /usr/local/lib/python3.11/dist-packages (from google-generativeai) (2.160.0)\n",
      "Requirement already satisfied: google-auth>=2.15.0 in /usr/local/lib/python3.11/dist-packages (from google-generativeai) (2.27.0)\n",
      "Requirement already satisfied: protobuf in /usr/local/lib/python3.11/dist-packages (from google-generativeai) (3.20.3)\n",
      "Requirement already satisfied: pydantic in /usr/local/lib/python3.11/dist-packages (from google-generativeai) (2.11.3)\n",
      "Requirement already satisfied: tqdm in /usr/local/lib/python3.11/dist-packages (from google-generativeai) (4.67.1)\n",
      "Requirement already satisfied: typing-extensions in /usr/local/lib/python3.11/dist-packages (from google-generativeai) (4.13.1)\n",
      "Requirement already satisfied: proto-plus<2.0.0dev,>=1.22.3 in /usr/local/lib/python3.11/dist-packages (from google-ai-generativelanguage==0.6.15->google-generativeai) (1.26.0)\n",
      "Requirement already satisfied: googleapis-common-protos<2.0dev,>=1.56.2 in /usr/local/lib/python3.11/dist-packages (from google-api-core->google-generativeai) (1.67.0)\n",
      "Requirement already satisfied: requests<3.0.0dev,>=2.18.0 in /usr/local/lib/python3.11/dist-packages (from google-api-core->google-generativeai) (2.32.3)\n",
      "Requirement already satisfied: cachetools<6.0,>=2.0.0 in /usr/local/lib/python3.11/dist-packages (from google-auth>=2.15.0->google-generativeai) (5.5.2)\n",
      "Requirement already satisfied: pyasn1-modules>=0.2.1 in /usr/local/lib/python3.11/dist-packages (from google-auth>=2.15.0->google-generativeai) (0.4.1)\n",
      "Requirement already satisfied: rsa<5,>=3.1.4 in /usr/local/lib/python3.11/dist-packages (from google-auth>=2.15.0->google-generativeai) (4.9)\n",
      "Requirement already satisfied: httplib2<1.dev0,>=0.19.0 in /usr/local/lib/python3.11/dist-packages (from google-api-python-client->google-generativeai) (0.22.0)\n",
      "Requirement already satisfied: google-auth-httplib2<1.0.0,>=0.2.0 in /usr/local/lib/python3.11/dist-packages (from google-api-python-client->google-generativeai) (0.2.0)\n",
      "Requirement already satisfied: uritemplate<5,>=3.0.1 in /usr/local/lib/python3.11/dist-packages (from google-api-python-client->google-generativeai) (4.1.1)\n",
      "Requirement already satisfied: annotated-types>=0.6.0 in /usr/local/lib/python3.11/dist-packages (from pydantic->google-generativeai) (0.7.0)\n",
      "Requirement already satisfied: pydantic-core==2.33.1 in /usr/local/lib/python3.11/dist-packages (from pydantic->google-generativeai) (2.33.1)\n",
      "Requirement already satisfied: typing-inspection>=0.4.0 in /usr/local/lib/python3.11/dist-packages (from pydantic->google-generativeai) (0.4.0)\n",
      "Requirement already satisfied: grpcio<2.0dev,>=1.33.2 in /usr/local/lib/python3.11/dist-packages (from google-api-core[grpc]!=2.0.*,!=2.1.*,!=2.10.*,!=2.2.*,!=2.3.*,!=2.4.*,!=2.5.*,!=2.6.*,!=2.7.*,!=2.8.*,!=2.9.*,<3.0.0dev,>=1.34.1->google-ai-generativelanguage==0.6.15->google-generativeai) (1.70.0)\n",
      "Requirement already satisfied: grpcio-status<2.0dev,>=1.33.2 in /usr/local/lib/python3.11/dist-packages (from google-api-core[grpc]!=2.0.*,!=2.1.*,!=2.10.*,!=2.2.*,!=2.3.*,!=2.4.*,!=2.5.*,!=2.6.*,!=2.7.*,!=2.8.*,!=2.9.*,<3.0.0dev,>=1.34.1->google-ai-generativelanguage==0.6.15->google-generativeai) (1.48.2)\n",
      "Requirement already satisfied: pyparsing!=3.0.0,!=3.0.1,!=3.0.2,!=3.0.3,<4,>=2.4.2 in /usr/local/lib/python3.11/dist-packages (from httplib2<1.dev0,>=0.19.0->google-api-python-client->google-generativeai) (3.2.1)\n",
      "Requirement already satisfied: pyasn1<0.7.0,>=0.4.6 in /usr/local/lib/python3.11/dist-packages (from pyasn1-modules>=0.2.1->google-auth>=2.15.0->google-generativeai) (0.6.1)\n",
      "Requirement already satisfied: charset-normalizer<4,>=2 in /usr/local/lib/python3.11/dist-packages (from requests<3.0.0dev,>=2.18.0->google-api-core->google-generativeai) (3.4.1)\n",
      "Requirement already satisfied: idna<4,>=2.5 in /usr/local/lib/python3.11/dist-packages (from requests<3.0.0dev,>=2.18.0->google-api-core->google-generativeai) (3.10)\n",
      "Requirement already satisfied: urllib3<3,>=1.21.1 in /usr/local/lib/python3.11/dist-packages (from requests<3.0.0dev,>=2.18.0->google-api-core->google-generativeai) (2.3.0)\n",
      "Requirement already satisfied: certifi>=2017.4.17 in /usr/local/lib/python3.11/dist-packages (from requests<3.0.0dev,>=2.18.0->google-api-core->google-generativeai) (2025.1.31)\n"
     ]
    }
   ],
   "source": [
    "# Step 1: Install the Gemini SDK (google-generativeai)\n",
    "!pip install -U google-generativeai\n",
    "\n"
   ]
  },
  {
   "cell_type": "code",
   "execution_count": null,
   "metadata": {
    "execution": {
     "execution_failed": "2025-04-19T20:48:19.658Z"
    },
    "trusted": true
   },
   "outputs": [],
   "source": [
    "import os\n",
    "os._exit(00)\n"
   ]
  },
  {
   "cell_type": "code",
   "execution_count": null,
   "metadata": {
    "execution": {
     "iopub.execute_input": "2025-04-19T20:49:04.366068Z",
     "iopub.status.busy": "2025-04-19T20:49:04.365717Z",
     "iopub.status.idle": "2025-04-19T20:49:06.883197Z",
     "shell.execute_reply": "2025-04-19T20:49:06.881628Z",
     "shell.execute_reply.started": "2025-04-19T20:49:04.366038Z"
    },
    "trusted": true
   },
   "outputs": [
    {
     "ename": "",
     "evalue": "",
     "output_type": "error",
     "traceback": [
      "\u001b[1;31mRunning cells with 'Python 3.13.2' requires the ipykernel package.\n",
      "\u001b[1;31mRun the following command to install 'ipykernel' into the Python environment. \n",
      "\u001b[1;31mCommand: 'c:/Users/ankus/AppData/Local/Programs/Python/Python313/python.exe -m pip install ipykernel -U --user --force-reinstall'"
     ]
    }
   ],
   "source": [
    "import google.generativeai as genai\n",
    "from kaggle_secrets import UserSecretsClient\n",
    "\n",
    "# Get your Gemini API key from Kaggle secrets\n",
    "user_secrets = UserSecretsClient()\n",
    "api_key = user_secrets.get_secret(\"GEMINI_API_KEY\")\n",
    "\n",
    "# Configure Gemini API\n",
    "genai.configure(api_key=api_key)\n",
    "\n",
    "# Use the model (correctly recognized now that SDK is up to date)\n",
    "model = genai.GenerativeModel(model_name=\"gemini-1.5-pro-latest\")\n",
    "\n",
    "# Function to summarize text\n",
    "def summarize_text(text):\n",
    "    prompt = f\"Summarize the following text in 2-3 sentences:\\n\\n{text}\"\n",
    "    response = model.generate_content(prompt)\n",
    "    return response.text.strip()\n",
    "\n",
    "# Try it out\n",
    "text_to_summarize = \"\"\"\n",
    "The UK’s National Health Service (NHS) is the publicly funded healthcare system \n",
    "providing the majority of services to residents. It was established in 1948 \n",
    "with the aim of making healthcare accessible and free at the point of delivery. \n",
    "The NHS has undergone several reforms and faces challenges like staff shortages, \n",
    "funding pressures, and increasing demand due to an aging population.\n",
    "\"\"\"\n",
    "\n",
    "summary = summarize_text(text_to_summarize)\n",
    "\n",
    "print(\"📄 Original Text:\\n\", text_to_summarize)\n",
    "print(\"\\n✂️ Summarized Version:\\n\", summary)\n"
   ]
  },
  {
   "cell_type": "code",
   "execution_count": 17,
   "metadata": {
    "execution": {
     "iopub.execute_input": "2025-04-19T21:50:21.097242Z",
     "iopub.status.busy": "2025-04-19T21:50:21.096887Z",
     "iopub.status.idle": "2025-04-19T21:50:21.102957Z",
     "shell.execute_reply": "2025-04-19T21:50:21.101543Z",
     "shell.execute_reply.started": "2025-04-19T21:50:21.097216Z"
    },
    "trusted": true
   },
   "outputs": [
    {
     "name": "stdout",
     "output_type": "stream",
     "text": [
      "Available datasets:\n",
      "['image-data']\n"
     ]
    }
   ],
   "source": [
    "import os\n",
    "\n",
    "print(\"Available datasets:\")\n",
    "print(os.listdir(\"/kaggle/input\"))\n"
   ]
  },
  {
   "cell_type": "code",
   "execution_count": 20,
   "metadata": {
    "execution": {
     "iopub.execute_input": "2025-04-19T21:52:57.081471Z",
     "iopub.status.busy": "2025-04-19T21:52:57.081138Z",
     "iopub.status.idle": "2025-04-19T21:52:57.093086Z",
     "shell.execute_reply": "2025-04-19T21:52:57.092083Z",
     "shell.execute_reply.started": "2025-04-19T21:52:57.081446Z"
    },
    "trusted": true
   },
   "outputs": [
    {
     "name": "stdout",
     "output_type": "stream",
     "text": [
      "Datasets attached:\n",
      "['image-data']\n",
      "\n",
      "Files in /kaggle/input/image-data:\n",
      "['Sunrise.JPG']\n"
     ]
    }
   ],
   "source": [
    "import os\n",
    "\n",
    "# List all datasets mounted to /kaggle/input\n",
    "print(\"Datasets attached:\")\n",
    "print(os.listdir(\"/kaggle/input\"))\n",
    "\n",
    "# Check contents inside each dataset\n",
    "for dataset in os.listdir(\"/kaggle/input\"):\n",
    "    print(f\"\\nFiles in /kaggle/input/{dataset}:\")\n",
    "    print(os.listdir(f\"/kaggle/input/{dataset}\"))\n"
   ]
  },
  {
   "cell_type": "code",
   "execution_count": 22,
   "metadata": {
    "execution": {
     "iopub.execute_input": "2025-04-19T21:57:10.114117Z",
     "iopub.status.busy": "2025-04-19T21:57:10.113767Z",
     "iopub.status.idle": "2025-04-19T21:57:15.322522Z",
     "shell.execute_reply": "2025-04-19T21:57:15.321418Z",
     "shell.execute_reply.started": "2025-04-19T21:57:10.114092Z"
    },
    "trusted": true
   },
   "outputs": [
    {
     "name": "stdout",
     "output_type": "stream",
     "text": [
      "📷 Image Analysis:\n",
      " The image captures a sunrise viewed from a high vantage point, likely a mountain.  A thick layer of fog or low-lying clouds fills the valleys below, creating a sea of clouds effect.  The sun is just rising above the horizon, casting a horizontal band of golden light across the cloud layer. The peaks of other mountains protrude above the fog and are silhouetted against the bright sky. The sky transitions from a deep indigo at the top to warm oranges and yellows near the horizon. In the foreground, there are blurry indications of vegetation and possibly the edge of the viewing platform or mountainside. It appears to be a serene and beautiful sunrise scene.\n"
     ]
    }
   ],
   "source": [
    "import google.generativeai as genai\n",
    "from kaggle_secrets import UserSecretsClient\n",
    "from PIL import Image\n",
    "import io\n",
    "\n",
    "# ✅ Load API key\n",
    "user_secrets = UserSecretsClient()\n",
    "api_key = user_secrets.get_secret(\"GEMINI_API_KEY\")\n",
    "genai.configure(api_key=api_key)\n",
    "\n",
    "# ✅ Load model\n",
    "model = genai.GenerativeModel(model_name=\"gemini-1.5-pro-latest\")\n",
    "\n",
    "# ✅ Helper to read image as bytes\n",
    "def load_image_bytes(filepath):\n",
    "    with open(filepath, \"rb\") as img_file:\n",
    "        return img_file.read()\n",
    "\n",
    "# ✅ Function to analyze image + text\n",
    "import mimetypes\n",
    "\n",
    "def analyze_image_and_text(image_path, user_prompt):\n",
    "    image_bytes = load_image_bytes(image_path)\n",
    "    \n",
    "    # Guess the mime type (e.g., 'image/jpeg' for JPG)\n",
    "    mime_type, _ = mimetypes.guess_type(image_path)\n",
    "\n",
    "    response = model.generate_content([\n",
    "        {\"text\": user_prompt},\n",
    "        {\n",
    "            \"inline_data\": {\n",
    "                \"mime_type\": mime_type,\n",
    "                \"data\": image_bytes\n",
    "            }\n",
    "        }\n",
    "    ])\n",
    "    \n",
    "    return response.text\n",
    "\n",
    "    return response.text.strip()\n",
    "\n",
    "# ✅ Try it out (use your image path here)\n",
    "img_path =   \"/kaggle/input/image-data/Sunrise.JPG\"\n",
    "prompt = \"Describe what is happening in this image.\"\n",
    "\n",
    "summary = analyze_image_and_text(img_path, prompt)\n",
    "\n",
    "print(\"📷 Image Analysis:\\n\", summary)\n"
   ]
  },
  {
   "cell_type": "code",
   "execution_count": 23,
   "metadata": {
    "execution": {
     "iopub.execute_input": "2025-04-19T22:14:38.693731Z",
     "iopub.status.busy": "2025-04-19T22:14:38.693395Z",
     "iopub.status.idle": "2025-04-19T22:14:41.403884Z",
     "shell.execute_reply": "2025-04-19T22:14:41.403018Z",
     "shell.execute_reply.started": "2025-04-19T22:14:38.693707Z"
    },
    "trusted": true
   },
   "outputs": [
    {
     "name": "stdout",
     "output_type": "stream",
     "text": [
      "📷 Image Analysis:\n",
      " A golden sunrise illuminates a mountainous landscape shrouded in a low layer of fog. Silhouetted peaks rise above the mist, creating a dramatic and serene scene.\n",
      "\n"
     ]
    }
   ],
   "source": [
    "import google.generativeai as genai\n",
    "from kaggle_secrets import UserSecretsClient\n",
    "from PIL import Image\n",
    "import io\n",
    "\n",
    "# ✅ Load API key\n",
    "user_secrets = UserSecretsClient()\n",
    "api_key = user_secrets.get_secret(\"GEMINI_API_KEY\")\n",
    "genai.configure(api_key=api_key)\n",
    "\n",
    "# ✅ Load model\n",
    "model = genai.GenerativeModel(model_name=\"gemini-1.5-pro-latest\")\n",
    "\n",
    "# ✅ Helper to read image as bytes\n",
    "def load_image_bytes(filepath):\n",
    "    with open(filepath, \"rb\") as img_file:\n",
    "        return img_file.read()\n",
    "\n",
    "# ✅ Function to analyze image + text\n",
    "import mimetypes\n",
    "\n",
    "def analyze_image_and_text(image_path, user_prompt):\n",
    "    image_bytes = load_image_bytes(image_path)\n",
    "    \n",
    "    # Guess the mime type (e.g., 'image/jpeg' for JPG)\n",
    "    mime_type, _ = mimetypes.guess_type(image_path)\n",
    "\n",
    "    response = model.generate_content([\n",
    "        {\"text\": user_prompt},\n",
    "        {\n",
    "            \"inline_data\": {\n",
    "                \"mime_type\": mime_type,\n",
    "                \"data\": image_bytes\n",
    "            }\n",
    "        }\n",
    "    ])\n",
    "    \n",
    "    return response.text\n",
    "\n",
    "    return response.text.strip()\n",
    "\n",
    "# ✅ Try it out (use your image path here)\n",
    "img_path =   \"/kaggle/input/image-data/Sunrise.JPG\"\n",
    "prompt = \"\"\"\n",
    "You are an expert image captioner. Based on the image, provide a short, descriptive summary of what is happening.\n",
    "\n",
    "Examples:\n",
    "Image: A beach at sunset.\n",
    "Caption: The sun sets over a calm ocean, casting golden hues on the water.\n",
    "\n",
    "Image: A group of people hiking in a forest.\n",
    "Caption: Hikers trek through a lush green forest on a sunny day.\n",
    "\n",
    "Now, describe the next image:\n",
    "\"\"\"\n",
    "\n",
    "\n",
    "summary = analyze_image_and_text(img_path, prompt)\n",
    "\n",
    "print(\"📷 Image Analysis:\\n\", summary)\n"
   ]
  }
 ],
 "metadata": {
  "kaggle": {
   "accelerator": "none",
   "dataSources": [
    {
     "datasetId": 7194373,
     "sourceId": 11478739,
     "sourceType": "datasetVersion"
    }
   ],
   "dockerImageVersionId": 31012,
   "isGpuEnabled": false,
   "isInternetEnabled": true,
   "language": "python",
   "sourceType": "notebook"
  },
  "kernelspec": {
   "display_name": "Python 3",
   "language": "python",
   "name": "python3"
  },
  "language_info": {
   "codemirror_mode": {
    "name": "ipython",
    "version": 3
   },
   "file_extension": ".py",
   "mimetype": "text/x-python",
   "name": "python",
   "nbconvert_exporter": "python",
   "pygments_lexer": "ipython3",
   "version": "3.13.2"
  }
 },
 "nbformat": 4,
 "nbformat_minor": 4
}
